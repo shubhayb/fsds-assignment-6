{
 "cells": [
  {
   "cell_type": "markdown",
   "id": "a1a467be-0b53-4f39-a7ed-7a0f10981f41",
   "metadata": {},
   "source": [
    "1. What are escape characters, and how do you use them?\n",
    "Ans: An escape character is a backslash \\ followed by the character you want to insert"
   ]
  },
  {
   "cell_type": "markdown",
   "id": "1e10c704-d1a0-4d67-b683-fbb17f9c7a44",
   "metadata": {},
   "source": [
    "2. What do the escape characters n and t stand for?\n",
    "Ans: \"\\t\" is a tab, \"\\n\" is a newline"
   ]
  },
  {
   "cell_type": "code",
   "execution_count": null,
   "id": "3fa95fca-2c50-450e-b376-29881a42a654",
   "metadata": {},
   "outputs": [],
   "source": [
    "3. What is the way to include backslash characters in a string?\n",
    "Ans: we need two backslashes or use the @ verbatim string: \"\\\\Tasks\" or @\"\\Tasks\" ."
   ]
  },
  {
   "cell_type": "markdown",
   "id": "28a23b96-7365-499d-a44c-3d7ed97290b5",
   "metadata": {},
   "source": [
    "4. The string \"Howl's Moving Castle\" is a correct value. Why isn't the single quote character in the\n",
    "word Howl's not escaped a problem?\n",
    "\n",
    "Ans:  The single quote in Howl's is fine because you've used double quotes to mark the beginning and end of the string."
   ]
  },
  {
   "cell_type": "markdown",
   "id": "ba417100-58f0-423b-8efb-2101d3f247bb",
   "metadata": {},
   "source": [
    "5.How do you write a string of newlines if you don't want to use the n character?\n",
    "\n",
    "Ans : end=<character> is the character that will be used to separate the lines."
   ]
  },
  {
   "cell_type": "code",
   "execution_count": 24,
   "id": "9ffd15ad-a516-4ddb-adea-b90affa47d62",
   "metadata": {},
   "outputs": [
    {
     "name": "stdout",
     "output_type": "stream",
     "text": [
      "shubha  y b\n",
      "shubha \n",
      " Y B\n"
     ]
    }
   ],
   "source": [
    "print(\"shubha \", end=\" \" )\n",
    "print(\"y b\")\n",
    "print(\"shubha \\n Y B\")"
   ]
  },
  {
   "cell_type": "code",
   "execution_count": 25,
   "id": "6547316a-3161-4fef-a1fb-3cc18ac8f2c0",
   "metadata": {},
   "outputs": [
    {
     "data": {
      "text/plain": [
       "'lo, world!'"
      ]
     },
     "execution_count": 25,
     "metadata": {},
     "output_type": "execute_result"
    }
   ],
   "source": [
    "# 6. What are the values of the given expressions?\n",
    "'Hello, world!'[1]"
   ]
  },
  {
   "cell_type": "code",
   "execution_count": 28,
   "id": "c7ccec95-9df3-4552-ba65-a9760747fae9",
   "metadata": {},
   "outputs": [
    {
     "data": {
      "text/plain": [
       "'Hello'"
      ]
     },
     "execution_count": 28,
     "metadata": {},
     "output_type": "execute_result"
    }
   ],
   "source": [
    "'Hello, world!'[0:5]"
   ]
  },
  {
   "cell_type": "code",
   "execution_count": 27,
   "id": "915f790d-f614-4ecd-8294-8f02257e5fdb",
   "metadata": {},
   "outputs": [
    {
     "data": {
      "text/plain": [
       "'Hello'"
      ]
     },
     "execution_count": 27,
     "metadata": {},
     "output_type": "execute_result"
    }
   ],
   "source": [
    "'Hello, world!'[:5]"
   ]
  },
  {
   "cell_type": "code",
   "execution_count": 26,
   "id": "63ae5b55-dc18-4973-b576-7d836effe96f",
   "metadata": {},
   "outputs": [
    {
     "data": {
      "text/plain": [
       "'lo, world!'"
      ]
     },
     "execution_count": 26,
     "metadata": {},
     "output_type": "execute_result"
    }
   ],
   "source": [
    "'Hello, world!'[3:]"
   ]
  },
  {
   "cell_type": "code",
   "execution_count": 34,
   "id": "407ff704-b0ff-48ce-a682-e2420703965e",
   "metadata": {},
   "outputs": [
    {
     "data": {
      "text/plain": [
       "'HELLO'"
      ]
     },
     "execution_count": 34,
     "metadata": {},
     "output_type": "execute_result"
    }
   ],
   "source": [
    "#7. What are the values of the following expressions?\n",
    "'Hello'.upper()"
   ]
  },
  {
   "cell_type": "code",
   "execution_count": 35,
   "id": "c5d15218-157f-4afb-aea5-7edf65f0a061",
   "metadata": {},
   "outputs": [
    {
     "data": {
      "text/plain": [
       "True"
      ]
     },
     "execution_count": 35,
     "metadata": {},
     "output_type": "execute_result"
    }
   ],
   "source": [
    "'Hello'.upper().isupper()\n"
   ]
  },
  {
   "cell_type": "code",
   "execution_count": 36,
   "id": "ef663663-ac4a-497b-ac01-197224ea293e",
   "metadata": {},
   "outputs": [
    {
     "data": {
      "text/plain": [
       "'hello'"
      ]
     },
     "execution_count": 36,
     "metadata": {},
     "output_type": "execute_result"
    }
   ],
   "source": [
    "'Hello'.upper().lower()"
   ]
  },
  {
   "cell_type": "code",
   "execution_count": 40,
   "id": "3a16b0fe-89c3-4c6d-b326-002331f4366c",
   "metadata": {},
   "outputs": [
    {
     "data": {
      "text/plain": [
       "['Remember,', 'remember,', 'the', 'fifth', 'of', 'July.']"
      ]
     },
     "execution_count": 40,
     "metadata": {},
     "output_type": "execute_result"
    }
   ],
   "source": [
    "#8. What are the values of the following expressions?\n",
    "'Remember, remember, the fifth of July.'.split()"
   ]
  },
  {
   "cell_type": "code",
   "execution_count": 39,
   "id": "0f50abbb-6878-46ff-a1f8-e68f6de7094a",
   "metadata": {},
   "outputs": [
    {
     "data": {
      "text/plain": [
       "'There-can-only-one.'"
      ]
     },
     "execution_count": 39,
     "metadata": {},
     "output_type": "execute_result"
    }
   ],
   "source": [
    "'-'.join('There can only one.'.split())"
   ]
  },
  {
   "cell_type": "markdown",
   "id": "68dfc76f-3e7f-4844-947a-8f748aea330e",
   "metadata": {},
   "source": [
    "9. What are the methods for right-justifying, left-justifying, and centering a string?\n",
    "\n",
    "Ans :For right-justifying we use the rjust() \n",
    "         left-justifying we use the ljust()\n",
    "         centering center()"
   ]
  },
  {
   "cell_type": "markdown",
   "id": "a588937f-7dad-42d0-a7d9-b84351f7eb51",
   "metadata": {},
   "source": [
    "10. What is the best way to remove whitespace characters from the start or end?\n",
    "Ans : Use the .strip() method to remove whitespace and characters from the beginning and the end of a string. Use the .lstrip() method to remove whitespace and characters only from the beginning of a string"
   ]
  }
 ],
 "metadata": {
  "kernelspec": {
   "display_name": "Python 3 (ipykernel)",
   "language": "python",
   "name": "python3"
  },
  "language_info": {
   "codemirror_mode": {
    "name": "ipython",
    "version": 3
   },
   "file_extension": ".py",
   "mimetype": "text/x-python",
   "name": "python",
   "nbconvert_exporter": "python",
   "pygments_lexer": "ipython3",
   "version": "3.10.6"
  }
 },
 "nbformat": 4,
 "nbformat_minor": 5
}
